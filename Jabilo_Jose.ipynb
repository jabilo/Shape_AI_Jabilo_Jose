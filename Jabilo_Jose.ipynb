{
  "nbformat": 4,
  "nbformat_minor": 0,
  "metadata": {
    "colab": {
      "name": "Jabilo Jose.ipynb",
      "provenance": [],
      "collapsed_sections": []
    },
    "kernelspec": {
      "name": "python3",
      "display_name": "Python 3"
    },
    "language_info": {
      "name": "python"
    }
  },
  "cells": [
    {
      "cell_type": "code",
      "metadata": {
        "id": "LdmZgKrTRLtJ"
      },
      "source": [
        "import numpy as np\n",
        "import matplotlib.pyplot as plt\n",
        "import keras\n",
        "from keras.datasets import mnist\n",
        "from keras.models import Sequential\n",
        "from keras.layers import Dense\n",
        "from keras.optimizers import Adam\n",
        "from keras.utils.np_utils import to_categorical\n",
        "import random\n",
        "np.random.seed(0)"
      ],
      "execution_count": 30,
      "outputs": []
    },
    {
      "cell_type": "code",
      "metadata": {
        "colab": {
          "base_uri": "https://localhost:8080/"
        },
        "id": "__zn9cKsRU1o",
        "outputId": "0dadfa29-652a-4f36-a3fc-2324e854cc06"
      },
      "source": [
        "(X_train, y_train), (X_test, y_test) = mnist.load_data()\n",
        " \n",
        "print(X_train.shape)\n",
        "print(X_test.shape)\n",
        "print(y_train.shape[0])\n"
      ],
      "execution_count": 31,
      "outputs": [
        {
          "output_type": "stream",
          "text": [
            "(60000, 28, 28)\n",
            "(10000, 28, 28)\n",
            "60000\n"
          ],
          "name": "stdout"
        }
      ]
    },
    {
      "cell_type": "code",
      "metadata": {
        "id": "4iyzRW4lRhum"
      },
      "source": [
        "y_train = to_categorical(y_train, 10)\n",
        "y_test = to_categorical(y_test, 10)\n",
        " \n",
        "X_train = X_train/255 \n",
        "X_test = X_test/255\n",
        " \n",
        "num_pixels = 784\n",
        "X_train = X_train.reshape(X_train.shape[0], num_pixels)\n",
        "X_test = X_test.reshape(X_test.shape[0], num_pixels)"
      ],
      "execution_count": 32,
      "outputs": []
    },
    {
      "cell_type": "code",
      "metadata": {
        "id": "mL81yZIURkX7"
      },
      "source": [
        "def create_model():\n",
        "    model = Sequential()\n",
        "    model.add(Dense(10, input_dim=num_pixels, activation='relu'))\n",
        "    model.add(Dense(30, activation='relu'))\n",
        "    model.add(Dense(10, activation='relu'))\n",
        "    model.add(Dense(10, activation='softmax'))\n",
        "    model.compile(Adam(lr=0.01), loss='categorical_crossentropy', metrics=['accuracy'])\n",
        "    return model\n"
      ],
      "execution_count": 33,
      "outputs": []
    },
    {
      "cell_type": "code",
      "metadata": {
        "colab": {
          "base_uri": "https://localhost:8080/"
        },
        "id": "f_ooMLa7RmMT",
        "outputId": "4b99f7a7-d726-4853-9465-ec031b9aa067"
      },
      "source": [
        " \n",
        "model = create_model()\n",
        "print(model.summary())"
      ],
      "execution_count": 34,
      "outputs": [
        {
          "output_type": "stream",
          "text": [
            "Model: \"sequential_8\"\n",
            "_________________________________________________________________\n",
            "Layer (type)                 Output Shape              Param #   \n",
            "=================================================================\n",
            "dense_26 (Dense)             (None, 10)                7850      \n",
            "_________________________________________________________________\n",
            "dense_27 (Dense)             (None, 30)                330       \n",
            "_________________________________________________________________\n",
            "dense_28 (Dense)             (None, 10)                310       \n",
            "_________________________________________________________________\n",
            "dense_29 (Dense)             (None, 10)                110       \n",
            "=================================================================\n",
            "Total params: 8,600\n",
            "Trainable params: 8,600\n",
            "Non-trainable params: 0\n",
            "_________________________________________________________________\n",
            "None\n"
          ],
          "name": "stdout"
        }
      ]
    },
    {
      "cell_type": "code",
      "metadata": {
        "id": "1KqMYhwJRmr3",
        "colab": {
          "base_uri": "https://localhost:8080/"
        },
        "outputId": "74716e30-6cce-4c3d-abad-0451bfde817c"
      },
      "source": [
        "\n",
        "history = model.fit(X_train, y_train, validation_split=0.1, epochs = 10, batch_size = 200, verbose = 1, shuffle = 1)\n",
        " "
      ],
      "execution_count": 35,
      "outputs": [
        {
          "output_type": "stream",
          "text": [
            "Epoch 1/10\n",
            "270/270 [==============================] - 1s 3ms/step - loss: 0.9116 - accuracy: 0.6866 - val_loss: 0.2626 - val_accuracy: 0.9260\n",
            "Epoch 2/10\n",
            "270/270 [==============================] - 1s 3ms/step - loss: 0.2941 - accuracy: 0.9132 - val_loss: 0.2279 - val_accuracy: 0.9317\n",
            "Epoch 3/10\n",
            "270/270 [==============================] - 1s 3ms/step - loss: 0.2657 - accuracy: 0.9216 - val_loss: 0.2298 - val_accuracy: 0.9297\n",
            "Epoch 4/10\n",
            "270/270 [==============================] - 1s 3ms/step - loss: 0.2342 - accuracy: 0.9293 - val_loss: 0.2157 - val_accuracy: 0.9373\n",
            "Epoch 5/10\n",
            "270/270 [==============================] - 1s 3ms/step - loss: 0.2277 - accuracy: 0.9318 - val_loss: 0.2154 - val_accuracy: 0.9382\n",
            "Epoch 6/10\n",
            "270/270 [==============================] - 1s 3ms/step - loss: 0.2287 - accuracy: 0.9313 - val_loss: 0.1950 - val_accuracy: 0.9415\n",
            "Epoch 7/10\n",
            "270/270 [==============================] - 1s 3ms/step - loss: 0.2131 - accuracy: 0.9362 - val_loss: 0.2069 - val_accuracy: 0.9413\n",
            "Epoch 8/10\n",
            "270/270 [==============================] - 1s 3ms/step - loss: 0.1977 - accuracy: 0.9419 - val_loss: 0.1925 - val_accuracy: 0.9445\n",
            "Epoch 9/10\n",
            "270/270 [==============================] - 1s 3ms/step - loss: 0.2069 - accuracy: 0.9370 - val_loss: 0.1893 - val_accuracy: 0.9455\n",
            "Epoch 10/10\n",
            "270/270 [==============================] - 1s 3ms/step - loss: 0.1956 - accuracy: 0.9399 - val_loss: 0.1957 - val_accuracy: 0.9437\n"
          ],
          "name": "stdout"
        }
      ]
    },
    {
      "cell_type": "code",
      "metadata": {
        "id": "LcStMmbqRo6j",
        "colab": {
          "base_uri": "https://localhost:8080/",
          "height": 337
        },
        "outputId": "b0f2977e-3236-448c-ea6c-c4d70fa53031"
      },
      "source": [
        "import requests\n",
        "from PIL import Image\n",
        " \n",
        "url = 'https://colah.github.io/posts/2014-10-Visualizing-MNIST/img/mnist_pca/MNIST-p1815-4.png'\n",
        "response = requests.get(url, stream=True)\n",
        "img = Image.open(response.raw)\n",
        "plt.imshow(img, cmap=plt.get_cmap('gray'))\n",
        " \n",
        "import cv2\n",
        " \n",
        "img = np.asarray(img)\n",
        "img = cv2.resize(img, (28, 28))\n",
        "img = cv2.cvtColor(img, cv2.COLOR_BGR2GRAY)\n",
        "img = cv2.bitwise_not(img)\n",
        "plt.imshow(img, cmap=plt.get_cmap('gray'))\n",
        " \n",
        "img = img/255\n",
        "img = img.reshape(1, 784)\n",
        " \n",
        "prediction = model.predict_classes(img)\n",
        "print(\"predicted digit:\", str(prediction))"
      ],
      "execution_count": 36,
      "outputs": [
        {
          "output_type": "stream",
          "text": [
            "predicted digit: [2]\n"
          ],
          "name": "stdout"
        },
        {
          "output_type": "stream",
          "text": [
            "/usr/local/lib/python3.7/dist-packages/tensorflow/python/keras/engine/sequential.py:450: UserWarning: `model.predict_classes()` is deprecated and will be removed after 2021-01-01. Please use instead:* `np.argmax(model.predict(x), axis=-1)`,   if your model does multi-class classification   (e.g. if it uses a `softmax` last-layer activation).* `(model.predict(x) > 0.5).astype(\"int32\")`,   if your model does binary classification   (e.g. if it uses a `sigmoid` last-layer activation).\n",
            "  warnings.warn('`model.predict_classes()` is deprecated and '\n"
          ],
          "name": "stderr"
        },
        {
          "output_type": "display_data",
          "data": {
            "image/png": "[encoded data removed]",
            "text/plain": [
              "<Figure size 432x288 with 1 Axes>"
            ]
          },
          "metadata": {
            "tags": [],
            "needs_background": "light"
          }
        }
      ]
    }
  ]
}